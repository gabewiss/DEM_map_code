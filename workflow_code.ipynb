{
 "cells": [
  {
   "cell_type": "code",
   "execution_count": null,
   "id": "e56fb766",
   "metadata": {},
   "outputs": [],
   "source": [
    "#Make sure your using the correct environment from UWGDA2021 and the kernel \n",
    "#matches that environment in the above menu\n",
    "# I downlaod all the DEMS and shapefiles to my disk and then call them into jupyter notebook. I don't fuss\n",
    "#with API codes and such\n",
    "#THere were many tribulations in this process. One of which was learning again what could be masked, warped, \n",
    "#clipped and reprojected. I don't have those answers, but maybe most. This code can provide a less cluttered\n",
    "#workflow and should be coupled with lab 07 from uwgda2021 as the authoratative reference.\n",
    "#\n",
    "#This should do the trick or at least drastically speed up a potentially long process"
   ]
  },
  {
   "cell_type": "code",
   "execution_count": null,
   "id": "ff77f833",
   "metadata": {},
   "outputs": [],
   "source": [
    "import os\n",
    "import requests\n",
    "import matplotlib.patches as mpatches\n",
    "import matplotlib.lines as mlines\n",
    "import matplotlib.markers as mmarkers\n",
    "import numpy as np\n",
    "import pandas as pd\n",
    "import geopandas as gpd\n",
    "import rasterio as rio\n",
    "from rasterio import plot, mask\n",
    "from rasterio.warp import calculate_default_transform, reproject, Resampling\n",
    "import matplotlib.pyplot as plt\n",
    "from matplotlib_scalebar.scalebar import ScaleBar\n",
    "import rasterstats\n",
    "from shapely.geometry import Point, Polygon, MultiPolygon"
   ]
  },
  {
   "cell_type": "code",
   "execution_count": null,
   "id": "e316ea8b",
   "metadata": {},
   "outputs": [],
   "source": [
    "%matplotlib widget\n",
    "#%matplotlib inline"
   ]
  },
  {
   "cell_type": "code",
   "execution_count": null,
   "id": "8fa31c9f",
   "metadata": {},
   "outputs": [],
   "source": [
    "wa_bounds = (-124.733174, 45.543541, -116.915989, 49.002494) # or other bounds too, but maybe they can be \n",
    "#gotten later from the shapefile that represents your area of interest"
   ]
  },
  {
   "cell_type": "code",
   "execution_count": null,
   "id": "7e025b82",
   "metadata": {},
   "outputs": [],
   "source": [
    "#Download your DEM (digital elevation model) of interest to the \n",
    "# working directory\n",
    "# 'input.tif' is the DEM you downloaded. We are warping it to fit our coordinate system...I think \n",
    "#this is COMMAND LINE code\n",
    "gdalwarp -t_srs EPSG:4326 input.tif output.tif\n",
    "\n"
   ]
  },
  {
   "cell_type": "code",
   "execution_count": null,
   "id": "c6e3a09f",
   "metadata": {},
   "outputs": [],
   "source": [
    "# Load your reprojected dataset\n",
    "\n",
    "with rio.open(output.tif) as src_proj:\n",
    "    rio.plot.show(src_proj)\n",
    "    \n",
    "    #or \n",
    "    \n",
    "src_proj = rio.open('output.tif')"
   ]
  },
  {
   "cell_type": "code",
   "execution_count": null,
   "id": "ae2a1e71",
   "metadata": {},
   "outputs": [],
   "source": [
    "#Now take all that warped elevation data and generate a hillshade using COMMAND LINE in your working\n",
    "#directory\n",
    "\n",
    "gdaldem hillshade path/src_proj.tif path/hs_fn.tif"
   ]
  },
  {
   "cell_type": "code",
   "execution_count": null,
   "id": "e4e30f0f",
   "metadata": {},
   "outputs": [],
   "source": [
    "#load hillshade\n",
    "hs_fn = 'hs_fn.tif'\n",
    "\n",
    "hs_src = rio.open(hs_fn)\n",
    "hs = hs_src.read(1, masked=True)\n",
    "\n",
    "#or try this if you have problems\n",
    "hs = rio.open('hs_fn')"
   ]
  },
  {
   "cell_type": "code",
   "execution_count": null,
   "id": "b41e4ff2",
   "metadata": {},
   "outputs": [],
   "source": [
    "# get hs extent\n",
    "hs_extent = rio.plot.plotting_extent(hs_src)\n",
    "hs_extent"
   ]
  },
  {
   "cell_type": "code",
   "execution_count": null,
   "id": "1442fe9d",
   "metadata": {},
   "outputs": [],
   "source": [
    "#  check it out your hillshade. Pretty cool...if this worked so far.\n",
    "f, ax1 = plt.subplots()\n",
    "ax1.imshow(hs, cmap='gray', extent=hs_extent);"
   ]
  },
  {
   "cell_type": "code",
   "execution_count": null,
   "id": "745526ee",
   "metadata": {
    "collapsed": true
   },
   "outputs": [],
   "source": [
    "# A NOTE: I cam across a problem where I needed to figure out the order files could be manipulated and it can\n",
    "#be confusing. If this order is not working I suggest referring to lab 07"
   ]
  },
  {
   "cell_type": "code",
   "execution_count": null,
   "id": "152c773c",
   "metadata": {},
   "outputs": [],
   "source": [
    "#Now we have a (1) DEM and (2) a hillshade"
   ]
  },
  {
   "cell_type": "code",
   "execution_count": null,
   "id": "0ff0cbd8",
   "metadata": {},
   "outputs": [],
   "source": [
    "#setting up my MORA park shapefile (which is a geopandas df)\n",
    "parks = 'parks.shp'\n",
    "parks_gdf = gpd.read_file(parks)\n",
    "\n",
    "#reproject to you location\n",
    "dst_crs = 'EPSG:32610'\n",
    "parks_gdf_proj = parks_gdf.to_crs(dst_crs)\n",
    "\n",
    "#Now I isolate MORA geometry in gdf because this gpd has EVERY park\n",
    "mora = parks_gdf_proj.loc[parks_gdf_proj['UNIT_CODE'] == 'MORA']\n",
    "mora_geom = mora.iloc[0].geometry"
   ]
  },
  {
   "cell_type": "code",
   "execution_count": null,
   "id": "fe1667ba",
   "metadata": {},
   "outputs": [],
   "source": [
    "#NOw we generate masked arrays for MORA\n",
    "#these are the keyword arguments for masking your arrays (DEMS-->masked arrays)\n",
    "rio_mask_kwargs = {'filled':False, 'crop':True, 'indexes':1}\n",
    "\n",
    "# *** [mora_geom] has brackets because there's only 1 polygon. ditch brackets if the geometry is a multipolygon\n",
    "mora_ma, mora_ma_transform = rio.mask.mask(src_proj, [mora_geom], **rio_mask_kwargs)"
   ]
  },
  {
   "cell_type": "code",
   "execution_count": null,
   "id": "05d13829",
   "metadata": {},
   "outputs": [],
   "source": [
    "#Download shape files for your area of interest, roads, wateways, lakes, geological stuff, etc."
   ]
  },
  {
   "cell_type": "code",
   "execution_count": null,
   "id": "189260ba",
   "metadata": {},
   "outputs": [],
   "source": [
    "#load shapefiles as geodataframes and reproject\n",
    "#Load as GeoDataFrame and reproject\n",
    "water_bodies_shp_fn = 'WA_Hydrography_-_NHDWaterbody.shp'\n",
    "water_bodies_gdf = gpd.read_file(water_bodies_shp_fn)\n",
    "water_bodies_gdf_utm = water_bodies_gdf.to_crs(src_proj.crs)\n",
    "\n",
    "polygons_shp_fn = 'mora_nvum_polygons.shp'\n",
    "polygons_gdf = gpd.read_file(polygons_shp_fn)\n",
    "polygons_gdf_utm = polygons_gdf.to_crs(src_proj.crs);\n",
    "\n",
    "roads_shp_fn = 'NPS_-_Roads_-_Geographic_Coordinate_System.shp'\n",
    "roads_gdf = gpd.read_file(roads_shp_fn)\n",
    "roads_gdf_utm = roads_gdf.to_crs(src_proj.crs)\n",
    "\n",
    "trails_shp_fn = 'NPS_-_Trails_-_Web_Mercator.shp'\n",
    "trails_gdf = gpd.read_file(trails_shp_fn)\n",
    "trails_gdf_utm = trails_gdf.to_crs(src_proj.crs)\n",
    "\n",
    "flowline_shp_fn = 'WA_Hydrography_-_NHD_Flowline.shp'\n",
    "flowline_gdf = gpd.read_file(flowline_shp_fn)\n",
    "flowline_gdf_utm = flowline_gdf.to_crs(src_proj.crs)"
   ]
  },
  {
   "cell_type": "code",
   "execution_count": null,
   "id": "c2404cfd",
   "metadata": {},
   "outputs": [],
   "source": [
    "#clip shapefiles to MORA\n",
    "mora_water_bodies_gdf_utm = gpd.clip(water_bodies_gdf_utm, mora_geom, keep_geom_type=False)\n",
    "mora_polygons_gdf_utm = gpd.clip(polygons_gdf_utm, mora_geom, keep_geom_type=False)\n",
    "roads_gdf_utm = gpd.clip(roads_gdf_utm, mora_geom, keep_geom_type=False)\n",
    "counters_gdf_utm = gpd.clip(counters_gdf_utm, mora_geom, keep_geom_type=False)\n",
    "trails_gdf_utm = gpd.clip(trails_gdf_utm, mora_geom, keep_geom_type=False)\n",
    "flowline_gdf_utm = gpd.clip(flowline_gdf_utm, mora_geom, keep_geom_type=False)"
   ]
  },
  {
   "cell_type": "code",
   "execution_count": null,
   "id": "dae312e3",
   "metadata": {},
   "outputs": [],
   "source": [
    "#1. we should have a DEM clipped to MORA - this provides elevation data for color bars and stuff\n",
    "#2. We has a hilllshade (masked array...i beleive) clipped to MORA to give a realistic appearance\n",
    "#3. All of the shape files we need are clipped and reprojected to fit MORA Boundaries\n",
    "#4. Then the legend"
   ]
  },
  {
   "cell_type": "code",
   "execution_count": null,
   "id": "29e61cb7",
   "metadata": {},
   "outputs": [],
   "source": [
    "#plot all of the layers to make a map\n",
    "\n",
    "f, axa = plt.subplots(figsize=(40,10))\n",
    "\n",
    "#elevation (DEM) and hillshade (masked array)\n",
    "m = axa.imshow(mora_ma, cmap='gist_earth', vmin=500, vmax= 2000,extent=mora_ma_extent, alpha=0.2, zorder=1)\n",
    "plt.colorbar(m, ax=axa,label='Elevation (m)', shrink=0.2, aspect=5)\n",
    "axa.imshow(hs, cmap='gray', extent=mora_ma_extent, alpha=0.5)\n",
    "\n",
    "#lake names and red dots\n",
    "texts = []\n",
    "for x, y, label in zip(lake_names.centroid.x, lake_names.centroid.y, lake_names[\"GNIS_Name\"]):\n",
    "    texts.append(plt.text(x, y, label, ha='center', va='top', weight='bold', fontsize = 12))\n",
    "#lake_names.centroid.plot(ax=axa, color='firebrick', marker='o',markersize=20, zorder=1.5)\n",
    "\n",
    "#shape files\n",
    "mora_water_bodies_gdf_utm.plot(ax=axa, color='dodgerblue')\n",
    "mora_polygons_gdf_utm.plot(ax=axa, color = 'yellow', alpha=0.3)\n",
    "mora_polygons_gdf_utm.exterior.plot(ax=axa, color = 'red', linewidth=0.2, alpha=1)\n",
    "counters_gdf_utm.plot(ax=axa, color='blue', marker='x',markersize=25,zorder=1.3)\n",
    "roads_gdf_utm.plot(ax=axa, color='black', linewidth=1, zorder=1)\n",
    "trails_gdf_utm.plot(ax=axa, color='brown', linestyle='dashed', linewidth=0.7, zorder=1)\n",
    "flowline_gdf_utm.plot(ax=axa, color='dodgerblue', linewidth=0.5, zorder=1)\n",
    "\n",
    "#legend\n",
    "axa.add_artist(ScaleBar(1.0))\n",
    "yellow_patch = mpatches.Patch(color='yellow', ec='red', label='Social media zones', alpha=0.3)\n",
    "ir =  mlines.Line2D([], [],color='blue', linestyle='None', marker='x',label='IR counters')\n",
    "lks =  mlines.Line2D([], [],color='firebrick', linestyle='None', marker='o',label='Target lakes')\n",
    "stream = mlines.Line2D([], [], color='dodgerblue', label='Streams and rivers')\n",
    "trl = mlines.Line2D([], [], linestyle= '--',color='brown', label='Trails')\n",
    "roads = mlines.Line2D([], [],color='black', label='Major roads')\n",
    "axa.legend(loc='lower right',handles=[yellow_patch, stream, trl, roads, ir, lks])\n",
    "\n",
    "#plt.legend(['IR counters'], loc='center left')\n",
    "plt.show()"
   ]
  }
 ],
 "metadata": {
  "kernelspec": {
   "display_name": "uwgda2021",
   "language": "python",
   "name": "uwgda2021"
  },
  "language_info": {
   "codemirror_mode": {
    "name": "ipython",
    "version": 3
   },
   "file_extension": ".py",
   "mimetype": "text/x-python",
   "name": "python",
   "nbconvert_exporter": "python",
   "pygments_lexer": "ipython3",
   "version": "3.8.8"
  }
 },
 "nbformat": 4,
 "nbformat_minor": 5
}
